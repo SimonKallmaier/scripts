{
 "cells": [
  {
   "cell_type": "code",
   "execution_count": 25,
   "metadata": {},
   "outputs": [],
   "source": [
    "import lxml.etree as ET\n",
    "\n",
    "\n",
    "def extract_mode_mapping(cii_path: str) -> dict:\n",
    "    tree = ET.parse(cii_path)\n",
    "    root = tree.getroot()\n",
    "    ns = {\"xsl\": \"http://www.w3.org/1999/XSL/Transform\"}\n",
    "    mapping = {}\n",
    "\n",
    "    templates = root.xpath(\"//xsl:template\", namespaces=ns)\n",
    "    for tmpl in templates:\n",
    "        mode = tmpl.get(\"mode\")\n",
    "        if not mode:\n",
    "            continue\n",
    "        children = list(tmpl)\n",
    "        if children:\n",
    "            child_tag = ET.QName(children[0]).localname\n",
    "            mapping[mode] = child_tag\n",
    "    return mapping\n",
    "\n",
    "\n",
    "def extract_id_mapping(xml_path: str) -> dict:\n",
    "    tree = ET.parse(xml_path)\n",
    "    root = tree.getroot()\n",
    "\n",
    "    result = {}\n",
    "    for entry in root.findall(\"entry\"):\n",
    "        item_id = entry.get(\"id\")\n",
    "        item_key = entry.get(\"key\")\n",
    "        if item_id and item_key:\n",
    "            # Remove the 'xr:' prefix\n",
    "            item_key = item_key.replace(\"xr:\", \"\")\n",
    "            result[item_id] = item_key\n",
    "\n",
    "    return result\n",
    "\n",
    "\n",
    "def extract_id_to_value_mapping(xml_path: str) -> dict:\n",
    "    tree = ET.parse(xml_path)\n",
    "    root = tree.getroot()\n",
    "\n",
    "    result = {}\n",
    "    for entry in root.findall(\"entry\"):\n",
    "        item_id = entry.get(\"id\")\n",
    "        item_value = entry.text.strip() if entry.text else None\n",
    "        if item_id and item_value:\n",
    "            result[item_id] = item_value\n",
    "\n",
    "    return result"
   ]
  },
  {
   "cell_type": "code",
   "execution_count": 34,
   "metadata": {},
   "outputs": [],
   "source": [
    "import pandas as pd\n",
    "\n",
    "\n",
    "def combine_and_write_to_csv(xsl_path: str, xml_path: str, output_path: str):\n",
    "    # Generate dictionaries using the provided functions\n",
    "    dict1 = extract_mode_mapping(xsl_path)\n",
    "    dict2 = extract_id_mapping(xml_path)\n",
    "    dict3 = extract_id_to_value_mapping(xml_path)\n",
    "\n",
    "    # Combine the dictionaries into a DataFrame\n",
    "    df = pd.DataFrame(\n",
    "        {\n",
    "            \"ID\": dict1.keys(),\n",
    "            \"Key\": dict1.values(),\n",
    "            \"XML Key\": [dict2.get(k, \"\") for k in dict1.keys()],\n",
    "            \"XML Value\": [dict3.get(k, \"\") for k in dict1.keys()],\n",
    "        }\n",
    "    )\n",
    "\n",
    "    # Save the DataFrame to a CSV file\n",
    "    df.to_csv(output_path, index=False)\n",
    "    print(f\"CSV saved to {output_path}\")"
   ]
  },
  {
   "cell_type": "code",
   "execution_count": 35,
   "metadata": {},
   "outputs": [
    {
     "name": "stdout",
     "output_type": "stream",
     "text": [
      "CSV saved to output.csv\n"
     ]
    }
   ],
   "source": [
    "combine_and_write_to_csv(cii_path, de_xml_path, \"output.csv\")"
   ]
  }
 ],
 "metadata": {
  "kernelspec": {
   "display_name": ".venv",
   "language": "python",
   "name": "python3"
  },
  "language_info": {
   "codemirror_mode": {
    "name": "ipython",
    "version": 3
   },
   "file_extension": ".py",
   "mimetype": "text/x-python",
   "name": "python",
   "nbconvert_exporter": "python",
   "pygments_lexer": "ipython3",
   "version": "3.12.8"
  }
 },
 "nbformat": 4,
 "nbformat_minor": 2
}
