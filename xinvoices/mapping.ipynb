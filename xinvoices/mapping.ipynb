{
 "cells": [
  {
   "cell_type": "code",
   "execution_count": 1,
   "metadata": {},
   "outputs": [],
   "source": [
    "from mapping import *\n",
    "import os"
   ]
  },
  {
   "cell_type": "code",
   "execution_count": 2,
   "metadata": {},
   "outputs": [],
   "source": [
    "cii_path = os.path.join(\"xsl\", \"cii-xr.xsl\")\n",
    "ubl_invoice_xsl_path = os.path.join(\"xsl\", \"ubl-invoice-xr.xsl\")\n",
    "ubl_creditnote_xsl_path = os.path.join(\"xsl\", \"ubl-creditnote-xr.xsl\")\n",
    "de_xml_path = os.path.join(\"xsl\", \"l10n\", \"de.xml\")\n",
    "df = combine(cii_path, ubl_invoice_xsl_path, ubl_creditnote_xsl_path, de_xml_path)"
   ]
  },
  {
   "cell_type": "code",
   "execution_count": 4,
   "metadata": {},
   "outputs": [
    {
     "data": {
      "text/plain": [
       "{'ID': {204: 'BT-99'},\n",
       " 'Key_Cii': {204: 'Document_level_charge_amount'},\n",
       " 'LineName_Cii': {204: 'ActualAmount'},\n",
       " 'Key_UblInvoice': {204: 'Document_level_charge_amount'},\n",
       " 'LineName_UblInvoice': {204: 'Amount'},\n",
       " 'Key_UblCreditNote': {204: 'Document_level_charge_amount'},\n",
       " 'LineName_UblCreditNote': {204: 'Amount'},\n",
       " 'XML Key': {204: 'Document_level_charge_amount'},\n",
       " 'XML Value': {204: 'Zuschlag'}}"
      ]
     },
     "execution_count": 4,
     "metadata": {},
     "output_type": "execute_result"
    }
   ],
   "source": [
    "df.loc[df[\"ID\"] == \"BT-99\"].to_dict()"
   ]
  },
  {
   "cell_type": "code",
   "execution_count": null,
   "metadata": {},
   "outputs": [],
   "source": []
  }
 ],
 "metadata": {
  "kernelspec": {
   "display_name": ".venv",
   "language": "python",
   "name": "python3"
  },
  "language_info": {
   "codemirror_mode": {
    "name": "ipython",
    "version": 3
   },
   "file_extension": ".py",
   "mimetype": "text/x-python",
   "name": "python",
   "nbconvert_exporter": "python",
   "pygments_lexer": "ipython3",
   "version": "3.12.8"
  }
 },
 "nbformat": 4,
 "nbformat_minor": 2
}
