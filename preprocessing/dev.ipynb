{
 "cells": [
  {
   "cell_type": "code",
   "execution_count": 11,
   "metadata": {},
   "outputs": [],
   "source": [
    "import pandas as pd\n",
    "import glob\n",
    "\n",
    "pickle_files = glob.glob('processed_data/final_dataframes/dataframe_chunk_*.pkl')\n",
    "df_list = [pd.read_pickle(pf) for pf in pickle_files]\n",
    "full_df = pd.concat(df_list, ignore_index=True)"
   ]
  },
  {
   "cell_type": "code",
   "execution_count": 12,
   "metadata": {},
   "outputs": [
    {
     "data": {
      "text/html": [
       "<div>\n",
       "<style scoped>\n",
       "    .dataframe tbody tr th:only-of-type {\n",
       "        vertical-align: middle;\n",
       "    }\n",
       "\n",
       "    .dataframe tbody tr th {\n",
       "        vertical-align: top;\n",
       "    }\n",
       "\n",
       "    .dataframe thead th {\n",
       "        text-align: right;\n",
       "    }\n",
       "</style>\n",
       "<table border=\"1\" class=\"dataframe\">\n",
       "  <thead>\n",
       "    <tr style=\"text-align: right;\">\n",
       "      <th></th>\n",
       "      <th>BATCHKLASSE</th>\n",
       "      <th>BATCHCONTENT</th>\n",
       "      <th>{BatchID}</th>\n",
       "      <th>{DocumentID}</th>\n",
       "      <th>docType</th>\n",
       "      <th>{pageCount}</th>\n",
       "      <th>is_blacklist</th>\n",
       "      <th>text</th>\n",
       "    </tr>\n",
       "  </thead>\n",
       "  <tbody>\n",
       "    <tr>\n",
       "      <th>0</th>\n",
       "      <td>zipname</td>\n",
       "      <td>filename</td>\n",
       "      <td>Batch_001</td>\n",
       "      <td>Doc_00041</td>\n",
       "      <td>bill</td>\n",
       "      <td>5</td>\n",
       "      <td>False</td>\n",
       "      <td>[[REDACTED]],\\n\\nMein Name ist [REDACTED][REDA...</td>\n",
       "    </tr>\n",
       "    <tr>\n",
       "      <th>1</th>\n",
       "      <td>zipname</td>\n",
       "      <td>filename</td>\n",
       "      <td>Batch_001</td>\n",
       "      <td>Doc_00226</td>\n",
       "      <td>bill</td>\n",
       "      <td>5</td>\n",
       "      <td>False</td>\n",
       "      <td>[REDACTED][REDACTED],\\n\\nMein Name ist [REDACT...</td>\n",
       "    </tr>\n",
       "    <tr>\n",
       "      <th>2</th>\n",
       "      <td>zipname</td>\n",
       "      <td>filename</td>\n",
       "      <td>Batch_001</td>\n",
       "      <td>Doc_00053</td>\n",
       "      <td>bill</td>\n",
       "      <td>5</td>\n",
       "      <td>False</td>\n",
       "      <td>[REDACTED][REDACTED],\\n\\nMein Name ist [REDACT...</td>\n",
       "    </tr>\n",
       "    <tr>\n",
       "      <th>3</th>\n",
       "      <td>zipname</td>\n",
       "      <td>filename</td>\n",
       "      <td>Batch_001</td>\n",
       "      <td>Doc_00188</td>\n",
       "      <td>bill</td>\n",
       "      <td>5</td>\n",
       "      <td>False</td>\n",
       "      <td>[REDACTED][REDACTED],\\n\\nMein Name ist [REDACT...</td>\n",
       "    </tr>\n",
       "    <tr>\n",
       "      <th>4</th>\n",
       "      <td>zipname</td>\n",
       "      <td>filename</td>\n",
       "      <td>Batch_001</td>\n",
       "      <td>Doc_00292</td>\n",
       "      <td>bill</td>\n",
       "      <td>5</td>\n",
       "      <td>False</td>\n",
       "      <td>[REDACTED][REDACTED],\\n\\nMein Name ist [REDACT...</td>\n",
       "    </tr>\n",
       "  </tbody>\n",
       "</table>\n",
       "</div>"
      ],
      "text/plain": [
       "  BATCHKLASSE BATCHCONTENT  {BatchID} {DocumentID} docType {pageCount}  \\\n",
       "0     zipname     filename  Batch_001    Doc_00041    bill           5   \n",
       "1     zipname     filename  Batch_001    Doc_00226    bill           5   \n",
       "2     zipname     filename  Batch_001    Doc_00053    bill           5   \n",
       "3     zipname     filename  Batch_001    Doc_00188    bill           5   \n",
       "4     zipname     filename  Batch_001    Doc_00292    bill           5   \n",
       "\n",
       "   is_blacklist                                               text  \n",
       "0         False  [[REDACTED]],\\n\\nMein Name ist [REDACTED][REDA...  \n",
       "1         False  [REDACTED][REDACTED],\\n\\nMein Name ist [REDACT...  \n",
       "2         False  [REDACTED][REDACTED],\\n\\nMein Name ist [REDACT...  \n",
       "3         False  [REDACTED][REDACTED],\\n\\nMein Name ist [REDACT...  \n",
       "4         False  [REDACTED][REDACTED],\\n\\nMein Name ist [REDACT...  "
      ]
     },
     "execution_count": 12,
     "metadata": {},
     "output_type": "execute_result"
    }
   ],
   "source": [
    "full_df.head()"
   ]
  },
  {
   "cell_type": "code",
   "execution_count": null,
   "metadata": {},
   "outputs": [],
   "source": []
  }
 ],
 "metadata": {
  "kernelspec": {
   "display_name": ".venv",
   "language": "python",
   "name": "python3"
  },
  "language_info": {
   "codemirror_mode": {
    "name": "ipython",
    "version": 3
   },
   "file_extension": ".py",
   "mimetype": "text/x-python",
   "name": "python",
   "nbconvert_exporter": "python",
   "pygments_lexer": "ipython3",
   "version": "3.12.3"
  }
 },
 "nbformat": 4,
 "nbformat_minor": 2
}
