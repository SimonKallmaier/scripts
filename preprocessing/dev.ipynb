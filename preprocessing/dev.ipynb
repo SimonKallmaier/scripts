{
 "cells": [
  {
   "cell_type": "code",
   "execution_count": 29,
   "metadata": {},
   "outputs": [],
   "source": [
    "import pandas as pd\n",
    "import glob\n",
    "\n",
    "pickle_files = glob.glob('processed_data//final_dataframes/dataframe_chunk_*.pkl')\n",
    "df_list = [pd.read_pickle(pf) for pf in pickle_files]\n",
    "full_df = pd.concat(df_list, ignore_index=True)"
   ]
  },
  {
   "cell_type": "code",
   "execution_count": 30,
   "metadata": {},
   "outputs": [
    {
     "data": {
      "text/html": [
       "<div>\n",
       "<style scoped>\n",
       "    .dataframe tbody tr th:only-of-type {\n",
       "        vertical-align: middle;\n",
       "    }\n",
       "\n",
       "    .dataframe tbody tr th {\n",
       "        vertical-align: top;\n",
       "    }\n",
       "\n",
       "    .dataframe thead th {\n",
       "        text-align: right;\n",
       "    }\n",
       "</style>\n",
       "<table border=\"1\" class=\"dataframe\">\n",
       "  <thead>\n",
       "    <tr style=\"text-align: right;\">\n",
       "      <th></th>\n",
       "      <th>BATCHKLASSE</th>\n",
       "      <th>BATCHCONTENT</th>\n",
       "      <th>{BatchID}</th>\n",
       "      <th>{DocumentID}</th>\n",
       "      <th>docType</th>\n",
       "      <th>{pageCount}</th>\n",
       "      <th>is_blacklist</th>\n",
       "      <th>text</th>\n",
       "    </tr>\n",
       "  </thead>\n",
       "  <tbody>\n",
       "    <tr>\n",
       "      <th>0</th>\n",
       "      <td>zipname</td>\n",
       "      <td>filename</td>\n",
       "      <td>Batch_001</td>\n",
       "      <td>Doc_00041</td>\n",
       "      <td>bill</td>\n",
       "      <td>5</td>\n",
       "      <td>False</td>\n",
       "      <td>[REDACTED_PHRASE] is the OCR text for document...</td>\n",
       "    </tr>\n",
       "    <tr>\n",
       "      <th>1</th>\n",
       "      <td>zipname</td>\n",
       "      <td>filename</td>\n",
       "      <td>Batch_001</td>\n",
       "      <td>Doc_00226</td>\n",
       "      <td>bill</td>\n",
       "      <td>5</td>\n",
       "      <td>False</td>\n",
       "      <td>[REDACTED_PHRASE] is the OCR text for document...</td>\n",
       "    </tr>\n",
       "    <tr>\n",
       "      <th>2</th>\n",
       "      <td>zipname</td>\n",
       "      <td>filename</td>\n",
       "      <td>Batch_001</td>\n",
       "      <td>Doc_00053</td>\n",
       "      <td>bill</td>\n",
       "      <td>5</td>\n",
       "      <td>False</td>\n",
       "      <td>[REDACTED_PHRASE] is the OCR text for document...</td>\n",
       "    </tr>\n",
       "    <tr>\n",
       "      <th>3</th>\n",
       "      <td>zipname</td>\n",
       "      <td>filename</td>\n",
       "      <td>Batch_001</td>\n",
       "      <td>Doc_00188</td>\n",
       "      <td>bill</td>\n",
       "      <td>5</td>\n",
       "      <td>False</td>\n",
       "      <td>[REDACTED_PHRASE] is the OCR text for document...</td>\n",
       "    </tr>\n",
       "    <tr>\n",
       "      <th>4</th>\n",
       "      <td>zipname</td>\n",
       "      <td>filename</td>\n",
       "      <td>Batch_001</td>\n",
       "      <td>Doc_00292</td>\n",
       "      <td>bill</td>\n",
       "      <td>5</td>\n",
       "      <td>False</td>\n",
       "      <td>[REDACTED_PHRASE] is the OCR text for document...</td>\n",
       "    </tr>\n",
       "  </tbody>\n",
       "</table>\n",
       "</div>"
      ],
      "text/plain": [
       "  BATCHKLASSE BATCHCONTENT  {BatchID} {DocumentID} docType {pageCount}  \\\n",
       "0     zipname     filename  Batch_001    Doc_00041    bill           5   \n",
       "1     zipname     filename  Batch_001    Doc_00226    bill           5   \n",
       "2     zipname     filename  Batch_001    Doc_00053    bill           5   \n",
       "3     zipname     filename  Batch_001    Doc_00188    bill           5   \n",
       "4     zipname     filename  Batch_001    Doc_00292    bill           5   \n",
       "\n",
       "   is_blacklist                                               text  \n",
       "0         False  [REDACTED_PHRASE] is the OCR text for document...  \n",
       "1         False  [REDACTED_PHRASE] is the OCR text for document...  \n",
       "2         False  [REDACTED_PHRASE] is the OCR text for document...  \n",
       "3         False  [REDACTED_PHRASE] is the OCR text for document...  \n",
       "4         False  [REDACTED_PHRASE] is the OCR text for document...  "
      ]
     },
     "execution_count": 30,
     "metadata": {},
     "output_type": "execute_result"
    }
   ],
   "source": [
    "full_df.head()"
   ]
  },
  {
   "cell_type": "code",
   "execution_count": 2,
   "metadata": {},
   "outputs": [],
   "source": [
    "from prepare_data import remove_common_phrases, anonymize_text"
   ]
  },
  {
   "cell_type": "code",
   "execution_count": 3,
   "metadata": {},
   "outputs": [
    {
     "name": "stdout",
     "output_type": "stream",
     "text": [
      "After removing common phrases:\n",
      "\n",
      "[REDACTED_PHRASE],\n",
      "\n",
      "Mein Name ist Max Mustermann und ich wohne in Berlin. Sie können mich unter max.mustermann@example.com erreichen.\n",
      "Heute ist der 1. Januar 2024.\n",
      "\n",
      "[REDACTED_PHRASE],\n",
      "Erika Musterfrau\n",
      "\n",
      "\n",
      "After anonymization:\n",
      "\n",
      "[REDACTED_PHRASE],\n",
      "\n",
      "Mein Name ist Max Mustermann und ich wohne in [REDACTED]. Sie können mich unter [REDACTED]erreichen.\n",
      "Heute ist der 1. Januar 2024.\n",
      "\n",
      "[REDACTED_PHRASE],\n",
      "Erika Musterfrau\n",
      "\n"
     ]
    }
   ],
   "source": [
    "# Sample text for testing\n",
    "sample_text = \"\"\"\n",
    "Sehr geehrte Damen und Herren,\n",
    "\n",
    "Mein Name ist Max Mustermann und ich wohne in Berlin. Sie können mich unter max.mustermann@example.com erreichen.\n",
    "Heute ist der 1. Januar 2024.\n",
    "\n",
    "Mit freundlichen Grüßen,\n",
    "Erika Musterfrau\n",
    "\"\"\"\n",
    "\n",
    "# Remove common phrases\n",
    "text_without_phrases = remove_common_phrases(sample_text)\n",
    "print(\"After removing common phrases:\")\n",
    "print(text_without_phrases)\n",
    "\n",
    "# Anonymize personal data\n",
    "anonymized_text = anonymize_text(text_without_phrases)\n",
    "print(\"\\nAfter anonymization:\")\n",
    "print(anonymized_text)"
   ]
  },
  {
   "cell_type": "code",
   "execution_count": null,
   "metadata": {},
   "outputs": [],
   "source": []
  }
 ],
 "metadata": {
  "kernelspec": {
   "display_name": ".venv",
   "language": "python",
   "name": "python3"
  },
  "language_info": {
   "codemirror_mode": {
    "name": "ipython",
    "version": 3
   },
   "file_extension": ".py",
   "mimetype": "text/x-python",
   "name": "python",
   "nbconvert_exporter": "python",
   "pygments_lexer": "ipython3",
   "version": "3.12.3"
  }
 },
 "nbformat": 4,
 "nbformat_minor": 2
}
